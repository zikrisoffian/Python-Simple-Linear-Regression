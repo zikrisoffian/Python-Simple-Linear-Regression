{
 "cells": [
  {
   "cell_type": "markdown",
   "id": "f53ba34d",
   "metadata": {},
   "source": [
    "## F-test for Linear Regression\n",
    "\n",
    "The F-test for linear regression tests whether any of the independent variables in a multiple linear regression model are significant. The F-test of overall significance indicates whether our linear regression model provides a better fit to the data than a model that contains no independent variables.\n",
    "\n",
    "The hypothesis for the F-test of the overall significance are as follows:\n",
    "- Null hypothesis: The fit of the intercept-only model and our model are equal\n",
    "- Alterative hypothesis: The fit of the intercept-only model is significantly reduced compared to our model\n",
    "\n",
    "If the p-value for the F-test of overall signigicance test is less than the significance level, we can reject the null hypothesis and conclude that our model provides a better fit than the intercept-only model."
   ]
  },
  {
   "cell_type": "markdown",
   "id": "40489e11",
   "metadata": {},
   "source": [
    "To test whether there is a regression relationship between the response variable Y and the set of variable X1, X2 .... , We make the hypothesis testing of: \n",
    "\n",
    "- H0:  Β₁ = 0\n",
    "- Ha:  Β₁ ≠ 0\n",
    "\n",
    "We use the test statistics:\n",
    "\n",
    "- F = MSR/MSE"
   ]
  },
  {
   "cell_type": "markdown",
   "id": "2af3a611",
   "metadata": {},
   "source": [
    "#### Import library"
   ]
  },
  {
   "cell_type": "code",
   "execution_count": 2,
   "id": "51869b48",
   "metadata": {},
   "outputs": [],
   "source": [
    "# import library\n",
    "\n",
    "import numpy as np\n",
    "import pandas as pd\n",
    "import matplotlib.pyplot as plt\n",
    "\n",
    "# import library for linear regression\n",
    "\n",
    "import statsmodels.api as sm\n",
    "\n",
    "%matplotlib inline"
   ]
  },
  {
   "cell_type": "markdown",
   "id": "44a2fbc8",
   "metadata": {},
   "source": [
    "#### Create Dataset"
   ]
  },
  {
   "cell_type": "code",
   "execution_count": 3,
   "id": "df73899a",
   "metadata": {},
   "outputs": [
    {
     "data": {
      "text/html": [
       "<div>\n",
       "<style scoped>\n",
       "    .dataframe tbody tr th:only-of-type {\n",
       "        vertical-align: middle;\n",
       "    }\n",
       "\n",
       "    .dataframe tbody tr th {\n",
       "        vertical-align: top;\n",
       "    }\n",
       "\n",
       "    .dataframe thead th {\n",
       "        text-align: right;\n",
       "    }\n",
       "</style>\n",
       "<table border=\"1\" class=\"dataframe\">\n",
       "  <thead>\n",
       "    <tr style=\"text-align: right;\">\n",
       "      <th></th>\n",
       "      <th>bills</th>\n",
       "      <th>tips</th>\n",
       "    </tr>\n",
       "  </thead>\n",
       "  <tbody>\n",
       "    <tr>\n",
       "      <th>0</th>\n",
       "      <td>34</td>\n",
       "      <td>5</td>\n",
       "    </tr>\n",
       "    <tr>\n",
       "      <th>1</th>\n",
       "      <td>108</td>\n",
       "      <td>17</td>\n",
       "    </tr>\n",
       "    <tr>\n",
       "      <th>2</th>\n",
       "      <td>64</td>\n",
       "      <td>11</td>\n",
       "    </tr>\n",
       "    <tr>\n",
       "      <th>3</th>\n",
       "      <td>88</td>\n",
       "      <td>8</td>\n",
       "    </tr>\n",
       "    <tr>\n",
       "      <th>4</th>\n",
       "      <td>99</td>\n",
       "      <td>14</td>\n",
       "    </tr>\n",
       "    <tr>\n",
       "      <th>5</th>\n",
       "      <td>51</td>\n",
       "      <td>5</td>\n",
       "    </tr>\n",
       "  </tbody>\n",
       "</table>\n",
       "</div>"
      ],
      "text/plain": [
       "   bills  tips\n",
       "0     34     5\n",
       "1    108    17\n",
       "2     64    11\n",
       "3     88     8\n",
       "4     99    14\n",
       "5     51     5"
      ]
     },
     "execution_count": 3,
     "metadata": {},
     "output_type": "execute_result"
    }
   ],
   "source": [
    "# create dataset and assign x and y\n",
    "# we create an artificial data of bills(independent variable) and tips given(dependent variable)\n",
    "\n",
    "x = [34, 108, 64, 88, 99 ,51] \n",
    "y = [5, 17, 11, 8, 14, 5]\n",
    "df = pd.DataFrame({\"bills\" : x, \"tips\" : y})\n",
    "x = df.bills\n",
    "y = df.tips\n",
    "df"
   ]
  },
  {
   "cell_type": "markdown",
   "id": "1fb9ac49",
   "metadata": {},
   "source": [
    "#### Parameter of linear regression"
   ]
  },
  {
   "cell_type": "code",
   "execution_count": 4,
   "id": "6afd7021",
   "metadata": {
    "scrolled": true
   },
   "outputs": [
    {
     "data": {
      "text/html": [
       "<div>\n",
       "<style scoped>\n",
       "    .dataframe tbody tr th:only-of-type {\n",
       "        vertical-align: middle;\n",
       "    }\n",
       "\n",
       "    .dataframe tbody tr th {\n",
       "        vertical-align: top;\n",
       "    }\n",
       "\n",
       "    .dataframe thead th {\n",
       "        text-align: right;\n",
       "    }\n",
       "</style>\n",
       "<table border=\"1\" class=\"dataframe\">\n",
       "  <thead>\n",
       "    <tr style=\"text-align: right;\">\n",
       "      <th></th>\n",
       "      <th>x</th>\n",
       "      <th>y</th>\n",
       "      <th>x-x̄</th>\n",
       "      <th>y-ȳ</th>\n",
       "      <th>(x-x̄)(y-ȳ)</th>\n",
       "      <th>(x-x̄)^2</th>\n",
       "      <th>(y-ȳ)^2</th>\n",
       "    </tr>\n",
       "  </thead>\n",
       "  <tbody>\n",
       "    <tr>\n",
       "      <th>0</th>\n",
       "      <td>34</td>\n",
       "      <td>5</td>\n",
       "      <td>-40.0</td>\n",
       "      <td>-5.0</td>\n",
       "      <td>200.0</td>\n",
       "      <td>1600.0</td>\n",
       "      <td>25.0</td>\n",
       "    </tr>\n",
       "    <tr>\n",
       "      <th>1</th>\n",
       "      <td>108</td>\n",
       "      <td>17</td>\n",
       "      <td>34.0</td>\n",
       "      <td>7.0</td>\n",
       "      <td>238.0</td>\n",
       "      <td>1156.0</td>\n",
       "      <td>49.0</td>\n",
       "    </tr>\n",
       "    <tr>\n",
       "      <th>2</th>\n",
       "      <td>64</td>\n",
       "      <td>11</td>\n",
       "      <td>-10.0</td>\n",
       "      <td>1.0</td>\n",
       "      <td>-10.0</td>\n",
       "      <td>100.0</td>\n",
       "      <td>1.0</td>\n",
       "    </tr>\n",
       "    <tr>\n",
       "      <th>3</th>\n",
       "      <td>88</td>\n",
       "      <td>8</td>\n",
       "      <td>14.0</td>\n",
       "      <td>-2.0</td>\n",
       "      <td>-28.0</td>\n",
       "      <td>196.0</td>\n",
       "      <td>4.0</td>\n",
       "    </tr>\n",
       "    <tr>\n",
       "      <th>4</th>\n",
       "      <td>99</td>\n",
       "      <td>14</td>\n",
       "      <td>25.0</td>\n",
       "      <td>4.0</td>\n",
       "      <td>100.0</td>\n",
       "      <td>625.0</td>\n",
       "      <td>16.0</td>\n",
       "    </tr>\n",
       "    <tr>\n",
       "      <th>5</th>\n",
       "      <td>51</td>\n",
       "      <td>5</td>\n",
       "      <td>-23.0</td>\n",
       "      <td>-5.0</td>\n",
       "      <td>115.0</td>\n",
       "      <td>529.0</td>\n",
       "      <td>25.0</td>\n",
       "    </tr>\n",
       "  </tbody>\n",
       "</table>\n",
       "</div>"
      ],
      "text/plain": [
       "     x   y  x-x̄  y-ȳ  (x-x̄)(y-ȳ)  (x-x̄)^2  (y-ȳ)^2\n",
       "0   34   5 -40.0  -5.0         200.0    1600.0      25.0\n",
       "1  108  17  34.0   7.0         238.0    1156.0      49.0\n",
       "2   64  11 -10.0   1.0         -10.0     100.0       1.0\n",
       "3   88   8  14.0  -2.0         -28.0     196.0       4.0\n",
       "4   99  14  25.0   4.0         100.0     625.0      16.0\n",
       "5   51   5 -23.0  -5.0         115.0     529.0      25.0"
      ]
     },
     "execution_count": 4,
     "metadata": {},
     "output_type": "execute_result"
    }
   ],
   "source": [
    "# calculate parameters\n",
    "\n",
    "x = [34, 108, 64, 88, 99 ,51] \n",
    "y = [5, 17, 11, 8, 14, 5]\n",
    "df = pd.DataFrame({\"x\" : x, \"y\" : y})\n",
    "df['x-x̄'] = df['x'] - np.mean(df['x'])\n",
    "df['y-ȳ'] = df['y'] - np.mean(df['y'])\n",
    "df['(x-x̄)(y-ȳ)'] = df['x-x̄'] * df['y-ȳ']\n",
    "df['(x-x̄)^2'] = df['x-x̄']**2\n",
    "df['(y-ȳ)^2'] = df['y-ȳ']**2\n",
    "df"
   ]
  },
  {
   "cell_type": "code",
   "execution_count": 5,
   "id": "64d01ad3",
   "metadata": {},
   "outputs": [
    {
     "data": {
      "text/plain": [
       "0.1462"
      ]
     },
     "execution_count": 5,
     "metadata": {},
     "output_type": "execute_result"
    }
   ],
   "source": [
    "# calculate the slope of linear line\n",
    "\n",
    "b1 = np.round((df['(x-x̄)(y-ȳ)'].sum() / df['(x-x̄)^2'].sum()),4)\n",
    "b1"
   ]
  },
  {
   "cell_type": "code",
   "execution_count": 6,
   "id": "9cfecd05",
   "metadata": {},
   "outputs": [
    {
     "data": {
      "text/plain": [
       "-0.8188"
      ]
     },
     "execution_count": 6,
     "metadata": {},
     "output_type": "execute_result"
    }
   ],
   "source": [
    "# calculate the y-intercept of linear line\n",
    "\n",
    "b0 = np.round(np.mean(df['y'] - b1 * np.mean(df['x'])),4)\n",
    "b0"
   ]
  },
  {
   "cell_type": "code",
   "execution_count": 48,
   "id": "cdcb9ecc",
   "metadata": {},
   "outputs": [
    {
     "name": "stdout",
     "output_type": "stream",
     "text": [
      "The linear regression is y = -0.8188 + 0.1462x\n"
     ]
    }
   ],
   "source": [
    "# Print linear regression equation\n",
    "print(f'The linear regression is y = {b0} + {b1}x')"
   ]
  },
  {
   "cell_type": "code",
   "execution_count": 8,
   "id": "6e8be296",
   "metadata": {},
   "outputs": [
    {
     "data": {
      "text/html": [
       "<div>\n",
       "<style scoped>\n",
       "    .dataframe tbody tr th:only-of-type {\n",
       "        vertical-align: middle;\n",
       "    }\n",
       "\n",
       "    .dataframe tbody tr th {\n",
       "        vertical-align: top;\n",
       "    }\n",
       "\n",
       "    .dataframe thead th {\n",
       "        text-align: right;\n",
       "    }\n",
       "</style>\n",
       "<table border=\"1\" class=\"dataframe\">\n",
       "  <thead>\n",
       "    <tr style=\"text-align: right;\">\n",
       "      <th></th>\n",
       "      <th>x</th>\n",
       "      <th>y</th>\n",
       "      <th>x-x̄</th>\n",
       "      <th>y-ȳ</th>\n",
       "      <th>(x-x̄)(y-ȳ)</th>\n",
       "      <th>(x-x̄)^2</th>\n",
       "      <th>(y-ȳ)^2</th>\n",
       "      <th>ŷ</th>\n",
       "      <th>(y-ŷ)^2</th>\n",
       "      <th>(ŷ-ȳ)^2</th>\n",
       "    </tr>\n",
       "  </thead>\n",
       "  <tbody>\n",
       "    <tr>\n",
       "      <th>0</th>\n",
       "      <td>34</td>\n",
       "      <td>5</td>\n",
       "      <td>-40.0</td>\n",
       "      <td>-5.0</td>\n",
       "      <td>200.0</td>\n",
       "      <td>1600.0</td>\n",
       "      <td>25.0</td>\n",
       "      <td>4.1520</td>\n",
       "      <td>0.719104</td>\n",
       "      <td>34.199104</td>\n",
       "    </tr>\n",
       "    <tr>\n",
       "      <th>1</th>\n",
       "      <td>108</td>\n",
       "      <td>17</td>\n",
       "      <td>34.0</td>\n",
       "      <td>7.0</td>\n",
       "      <td>238.0</td>\n",
       "      <td>1156.0</td>\n",
       "      <td>49.0</td>\n",
       "      <td>14.9708</td>\n",
       "      <td>4.117653</td>\n",
       "      <td>24.708853</td>\n",
       "    </tr>\n",
       "    <tr>\n",
       "      <th>2</th>\n",
       "      <td>64</td>\n",
       "      <td>11</td>\n",
       "      <td>-10.0</td>\n",
       "      <td>1.0</td>\n",
       "      <td>-10.0</td>\n",
       "      <td>100.0</td>\n",
       "      <td>1.0</td>\n",
       "      <td>8.5380</td>\n",
       "      <td>6.061444</td>\n",
       "      <td>2.137444</td>\n",
       "    </tr>\n",
       "    <tr>\n",
       "      <th>3</th>\n",
       "      <td>88</td>\n",
       "      <td>8</td>\n",
       "      <td>14.0</td>\n",
       "      <td>-2.0</td>\n",
       "      <td>-28.0</td>\n",
       "      <td>196.0</td>\n",
       "      <td>4.0</td>\n",
       "      <td>12.0468</td>\n",
       "      <td>16.376590</td>\n",
       "      <td>4.189390</td>\n",
       "    </tr>\n",
       "    <tr>\n",
       "      <th>4</th>\n",
       "      <td>99</td>\n",
       "      <td>14</td>\n",
       "      <td>25.0</td>\n",
       "      <td>4.0</td>\n",
       "      <td>100.0</td>\n",
       "      <td>625.0</td>\n",
       "      <td>16.0</td>\n",
       "      <td>13.6550</td>\n",
       "      <td>0.119025</td>\n",
       "      <td>13.359025</td>\n",
       "    </tr>\n",
       "    <tr>\n",
       "      <th>5</th>\n",
       "      <td>51</td>\n",
       "      <td>5</td>\n",
       "      <td>-23.0</td>\n",
       "      <td>-5.0</td>\n",
       "      <td>115.0</td>\n",
       "      <td>529.0</td>\n",
       "      <td>25.0</td>\n",
       "      <td>6.6374</td>\n",
       "      <td>2.681079</td>\n",
       "      <td>11.307079</td>\n",
       "    </tr>\n",
       "  </tbody>\n",
       "</table>\n",
       "</div>"
      ],
      "text/plain": [
       "     x   y  x-x̄  y-ȳ  (x-x̄)(y-ȳ)  (x-x̄)^2  (y-ȳ)^2        ŷ    (y-ŷ)^2  \\\n",
       "0   34   5 -40.0  -5.0         200.0    1600.0      25.0   4.1520   0.719104   \n",
       "1  108  17  34.0   7.0         238.0    1156.0      49.0  14.9708   4.117653   \n",
       "2   64  11 -10.0   1.0         -10.0     100.0       1.0   8.5380   6.061444   \n",
       "3   88   8  14.0  -2.0         -28.0     196.0       4.0  12.0468  16.376590   \n",
       "4   99  14  25.0   4.0         100.0     625.0      16.0  13.6550   0.119025   \n",
       "5   51   5 -23.0  -5.0         115.0     529.0      25.0   6.6374   2.681079   \n",
       "\n",
       "    (ŷ-ȳ)^2  \n",
       "0  34.199104  \n",
       "1  24.708853  \n",
       "2   2.137444  \n",
       "3   4.189390  \n",
       "4  13.359025  \n",
       "5  11.307079  "
      ]
     },
     "execution_count": 8,
     "metadata": {},
     "output_type": "execute_result"
    }
   ],
   "source": [
    "# the calculation needed for F-test\n",
    "\n",
    "x = [34, 108, 64, 88, 99 ,51] \n",
    "y = [5, 17, 11, 8, 14, 5]\n",
    "df = pd.DataFrame({\"x\" : x, \"y\" : y})\n",
    "df['x-x̄'] = df['x'] - np.mean(df['x'])\n",
    "df['y-ȳ'] = df['y'] - np.mean(df['y'])\n",
    "df['(x-x̄)(y-ȳ)'] = df['x-x̄'] * df['y-ȳ']\n",
    "df['(x-x̄)^2'] = df['x-x̄']**2\n",
    "df['(y-ȳ)^2'] = df['y-ȳ']**2\n",
    "df['ŷ'] = b0 + b1 * df['x']\n",
    "df['(y-ŷ)^2'] = (df['y'] - (b0 + b1 * df['x'])) ** 2\n",
    "df['(ŷ-ȳ)^2'] = ((b0 + b1 * df['x']) - np.mean(df['y'])) ** 2\n",
    "df"
   ]
  },
  {
   "cell_type": "markdown",
   "id": "ee4fb7bf",
   "metadata": {},
   "source": [
    "#### Calculate F statistics"
   ]
  },
  {
   "cell_type": "code",
   "execution_count": 47,
   "id": "6186b62c",
   "metadata": {},
   "outputs": [
    {
     "name": "stdout",
     "output_type": "stream",
     "text": [
      "Sum of square residuals is 89.9, Sum of square errors is 30.07\n"
     ]
    }
   ],
   "source": [
    "# SSR : Sum of square residuals\n",
    "SSR = df['(ŷ-ȳ)^2'].sum()\n",
    "# SSE : Sum of square errors\n",
    "SSE = df['(y-ŷ)^2'].sum()\n",
    "\n",
    "# Print MSR and MSE\n",
    "print(f'Sum of square residuals is {SSR.round(2)}, Sum of square errors is {SSE.round(2)}')"
   ]
  },
  {
   "cell_type": "code",
   "execution_count": 45,
   "id": "7eb17fd8",
   "metadata": {},
   "outputs": [
    {
     "name": "stdout",
     "output_type": "stream",
     "text": [
      "Mean Squared Residual is 89.9, Mean Squared Error is 7.52\n"
     ]
    }
   ],
   "source": [
    "# MSR: Mean Squared Residual\n",
    "MSR = SSR / 1\n",
    "\n",
    "# MSE: Mean Squared Error \n",
    "MSE = SSE / (len(x)-2)\n",
    "\n",
    "# Print MSR and MSE\n",
    "print(f'Mean Squared Residual is {MSR.round(2)}, Mean Squared Error is {MSE.round(2)}')"
   ]
  },
  {
   "cell_type": "code",
   "execution_count": 40,
   "id": "407bd1ff",
   "metadata": {},
   "outputs": [
    {
     "name": "stdout",
     "output_type": "stream",
     "text": [
      "F-value is 11.96\n"
     ]
    }
   ],
   "source": [
    "# Calculate the F-value\n",
    "F_value = MSR / MSE\n",
    "print(f'F-value is {F_value.round(2)}')"
   ]
  },
  {
   "cell_type": "code",
   "execution_count": 32,
   "id": "37b02ff0",
   "metadata": {},
   "outputs": [],
   "source": [
    "# degree of freedom and alpha value\n",
    "alpha = 0.05\n",
    "df_regression = 2-1\n",
    "df_error = len(x)-2 "
   ]
  },
  {
   "cell_type": "code",
   "execution_count": 39,
   "id": "73a727de",
   "metadata": {},
   "outputs": [
    {
     "name": "stdout",
     "output_type": "stream",
     "text": [
      "F_critical is 7.71\n"
     ]
    }
   ],
   "source": [
    "# Calculate the F-value using Percent point function (inverse of cdf)\n",
    "import scipy.stats\n",
    "f_critical = scipy.stats.f.ppf(1- alpha, df_regression, df_error)\n",
    "print(f'F_critical is {f_critical.round(2)}')"
   ]
  },
  {
   "cell_type": "code",
   "execution_count": 38,
   "id": "c1c90288",
   "metadata": {},
   "outputs": [
    {
     "name": "stdout",
     "output_type": "stream",
     "text": [
      "Reject the null hypothesis\n"
     ]
    }
   ],
   "source": [
    "# Check the hypothesis\n",
    "if F_value > f_critical:\n",
    "    print(\"Reject the null hypothesis\")\n",
    "else:\n",
    "    print(\"Fail to reject the null hypothesis\")"
   ]
  },
  {
   "cell_type": "markdown",
   "id": "bbb2c0ab",
   "metadata": {},
   "source": [
    "< Conclusion >\n",
    "\n",
    "- Our model y = -0.8188 + 0.1462x is significant\n",
    "- Our model is good fit for 95% confidence level (alpha = 0.05)\n",
    "\n",
    "- Null hypothesis rejected. \n",
    "- F-value > F-critical : Statistical significance linear relationship exist between independent variable x and dependent variable y. Which is not due by chance."
   ]
  }
 ],
 "metadata": {
  "kernelspec": {
   "display_name": "Python 3 (ipykernel)",
   "language": "python",
   "name": "python3"
  },
  "language_info": {
   "codemirror_mode": {
    "name": "ipython",
    "version": 3
   },
   "file_extension": ".py",
   "mimetype": "text/x-python",
   "name": "python",
   "nbconvert_exporter": "python",
   "pygments_lexer": "ipython3",
   "version": "3.10.9"
  }
 },
 "nbformat": 4,
 "nbformat_minor": 5
}
