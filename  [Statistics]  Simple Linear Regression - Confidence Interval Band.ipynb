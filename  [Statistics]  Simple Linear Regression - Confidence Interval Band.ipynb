{
 "cells": [
  {
   "cell_type": "markdown",
   "id": "5ffda411",
   "metadata": {},
   "source": [
    "#  [Statistics]  Simple Linear Regression - (5) Confidence Interval Band"
   ]
  },
  {
   "cell_type": "markdown",
   "id": "5477077a",
   "metadata": {},
   "source": [
    "#### Overview\n",
    "\n",
    "< Introduction >\n",
    "\n",
    "Regression model is based on the sample and it is an estimates. Regression model is not deterministic of population. It is not that simple. \n",
    "\n",
    "- A confidence band is used in statistical analysis to represent the uncertainty in an estimate of a curve or function based on limited or noisy data.\n",
    "\n",
    "< Confidence Interval Band >\n",
    "\n",
    "A confidence band is like a confidence interval.\n",
    "\n",
    "- Confidence Interval Band: The lines on a probability plot or fitted line plot which show the upper and lower confidence bounds for all points on a fitted line within the range of data.\n",
    "\n",
    " In regression, at some desired level of confidence, the confidence band will show the plausible range of values for the fitted line. The confidence bands above and below the fitted line represent confidence intervals for the mean response for some predictor variable.\n",
    " \n",
    " The 95% confidence interval is commonly interpreted as there is a 95% probability that the true linear regression line of the population will lie within the confidence interval of the regression line calculated from the sample data."
   ]
  },
  {
   "cell_type": "markdown",
   "id": "f59e7c28",
   "metadata": {},
   "source": [
    "#### Import library"
   ]
  },
  {
   "cell_type": "code",
   "execution_count": 72,
   "id": "87359aee",
   "metadata": {},
   "outputs": [],
   "source": [
    "# import library\n",
    "\n",
    "import numpy as np\n",
    "import pandas as pd\n",
    "import matplotlib.pyplot as plt\n",
    "\n",
    "# import library for linear regression\n",
    "\n",
    "import statsmodels.api as sm\n",
    "\n",
    "%matplotlib inline"
   ]
  },
  {
   "cell_type": "markdown",
   "id": "0e3713e4",
   "metadata": {},
   "source": [
    "#### Create Dataset"
   ]
  },
  {
   "cell_type": "code",
   "execution_count": 73,
   "id": "36b9f596",
   "metadata": {},
   "outputs": [
    {
     "data": {
      "text/html": [
       "<div>\n",
       "<style scoped>\n",
       "    .dataframe tbody tr th:only-of-type {\n",
       "        vertical-align: middle;\n",
       "    }\n",
       "\n",
       "    .dataframe tbody tr th {\n",
       "        vertical-align: top;\n",
       "    }\n",
       "\n",
       "    .dataframe thead th {\n",
       "        text-align: right;\n",
       "    }\n",
       "</style>\n",
       "<table border=\"1\" class=\"dataframe\">\n",
       "  <thead>\n",
       "    <tr style=\"text-align: right;\">\n",
       "      <th></th>\n",
       "      <th>bills</th>\n",
       "      <th>tips</th>\n",
       "    </tr>\n",
       "  </thead>\n",
       "  <tbody>\n",
       "    <tr>\n",
       "      <th>0</th>\n",
       "      <td>34</td>\n",
       "      <td>5</td>\n",
       "    </tr>\n",
       "    <tr>\n",
       "      <th>1</th>\n",
       "      <td>108</td>\n",
       "      <td>17</td>\n",
       "    </tr>\n",
       "    <tr>\n",
       "      <th>2</th>\n",
       "      <td>64</td>\n",
       "      <td>11</td>\n",
       "    </tr>\n",
       "    <tr>\n",
       "      <th>3</th>\n",
       "      <td>88</td>\n",
       "      <td>8</td>\n",
       "    </tr>\n",
       "    <tr>\n",
       "      <th>4</th>\n",
       "      <td>99</td>\n",
       "      <td>14</td>\n",
       "    </tr>\n",
       "    <tr>\n",
       "      <th>5</th>\n",
       "      <td>51</td>\n",
       "      <td>5</td>\n",
       "    </tr>\n",
       "  </tbody>\n",
       "</table>\n",
       "</div>"
      ],
      "text/plain": [
       "   bills  tips\n",
       "0     34     5\n",
       "1    108    17\n",
       "2     64    11\n",
       "3     88     8\n",
       "4     99    14\n",
       "5     51     5"
      ]
     },
     "execution_count": 73,
     "metadata": {},
     "output_type": "execute_result"
    }
   ],
   "source": [
    "# create dataset and assign x and y\n",
    "# we create an artificial data of bills(independent variable) and tips given(dependent variable)\n",
    "\n",
    "x = [34, 108, 64, 88, 99 ,51] \n",
    "y = [5, 17, 11, 8, 14, 5]\n",
    "df = pd.DataFrame({\"bills\" : x, \"tips\" : y})\n",
    "x = df.bills\n",
    "y = df.tips\n",
    "df"
   ]
  },
  {
   "cell_type": "markdown",
   "id": "f29c7ce5",
   "metadata": {},
   "source": [
    "#### Parameter for linear regression"
   ]
  },
  {
   "cell_type": "code",
   "execution_count": 74,
   "id": "31c59789",
   "metadata": {},
   "outputs": [
    {
     "name": "stdout",
     "output_type": "stream",
     "text": [
      "The linear regression is y = -0.8188 + 0.1462x\n"
     ]
    }
   ],
   "source": [
    "# line slope (b1) and y-intercept (b0)\n",
    "\n",
    "b0 = -0.8188\n",
    "b1 = 0.1462\n",
    "\n",
    "# Print linear regression equation\n",
    "print(f'The linear regression is y = {b0} + {b1}x')"
   ]
  },
  {
   "cell_type": "code",
   "execution_count": 75,
   "id": "3f821ac8",
   "metadata": {},
   "outputs": [
    {
     "data": {
      "text/html": [
       "<div>\n",
       "<style scoped>\n",
       "    .dataframe tbody tr th:only-of-type {\n",
       "        vertical-align: middle;\n",
       "    }\n",
       "\n",
       "    .dataframe tbody tr th {\n",
       "        vertical-align: top;\n",
       "    }\n",
       "\n",
       "    .dataframe thead th {\n",
       "        text-align: right;\n",
       "    }\n",
       "</style>\n",
       "<table border=\"1\" class=\"dataframe\">\n",
       "  <thead>\n",
       "    <tr style=\"text-align: right;\">\n",
       "      <th></th>\n",
       "      <th>x</th>\n",
       "      <th>y</th>\n",
       "      <th>x-x̄</th>\n",
       "      <th>y-ȳ</th>\n",
       "      <th>(x-x̄)(y-ȳ)</th>\n",
       "      <th>(x-x̄)^2</th>\n",
       "      <th>(y-ȳ)^2</th>\n",
       "      <th>ŷ</th>\n",
       "      <th>(y-ŷ)^2</th>\n",
       "      <th>(ŷ-ȳ)^2</th>\n",
       "    </tr>\n",
       "  </thead>\n",
       "  <tbody>\n",
       "    <tr>\n",
       "      <th>0</th>\n",
       "      <td>34</td>\n",
       "      <td>5</td>\n",
       "      <td>-40.0</td>\n",
       "      <td>-5.0</td>\n",
       "      <td>200.0</td>\n",
       "      <td>1600.0</td>\n",
       "      <td>25.0</td>\n",
       "      <td>4.1520</td>\n",
       "      <td>0.719104</td>\n",
       "      <td>34.199104</td>\n",
       "    </tr>\n",
       "    <tr>\n",
       "      <th>1</th>\n",
       "      <td>108</td>\n",
       "      <td>17</td>\n",
       "      <td>34.0</td>\n",
       "      <td>7.0</td>\n",
       "      <td>238.0</td>\n",
       "      <td>1156.0</td>\n",
       "      <td>49.0</td>\n",
       "      <td>14.9708</td>\n",
       "      <td>4.117653</td>\n",
       "      <td>24.708853</td>\n",
       "    </tr>\n",
       "    <tr>\n",
       "      <th>2</th>\n",
       "      <td>64</td>\n",
       "      <td>11</td>\n",
       "      <td>-10.0</td>\n",
       "      <td>1.0</td>\n",
       "      <td>-10.0</td>\n",
       "      <td>100.0</td>\n",
       "      <td>1.0</td>\n",
       "      <td>8.5380</td>\n",
       "      <td>6.061444</td>\n",
       "      <td>2.137444</td>\n",
       "    </tr>\n",
       "    <tr>\n",
       "      <th>3</th>\n",
       "      <td>88</td>\n",
       "      <td>8</td>\n",
       "      <td>14.0</td>\n",
       "      <td>-2.0</td>\n",
       "      <td>-28.0</td>\n",
       "      <td>196.0</td>\n",
       "      <td>4.0</td>\n",
       "      <td>12.0468</td>\n",
       "      <td>16.376590</td>\n",
       "      <td>4.189390</td>\n",
       "    </tr>\n",
       "    <tr>\n",
       "      <th>4</th>\n",
       "      <td>99</td>\n",
       "      <td>14</td>\n",
       "      <td>25.0</td>\n",
       "      <td>4.0</td>\n",
       "      <td>100.0</td>\n",
       "      <td>625.0</td>\n",
       "      <td>16.0</td>\n",
       "      <td>13.6550</td>\n",
       "      <td>0.119025</td>\n",
       "      <td>13.359025</td>\n",
       "    </tr>\n",
       "    <tr>\n",
       "      <th>5</th>\n",
       "      <td>51</td>\n",
       "      <td>5</td>\n",
       "      <td>-23.0</td>\n",
       "      <td>-5.0</td>\n",
       "      <td>115.0</td>\n",
       "      <td>529.0</td>\n",
       "      <td>25.0</td>\n",
       "      <td>6.6374</td>\n",
       "      <td>2.681079</td>\n",
       "      <td>11.307079</td>\n",
       "    </tr>\n",
       "  </tbody>\n",
       "</table>\n",
       "</div>"
      ],
      "text/plain": [
       "     x   y  x-x̄  y-ȳ  (x-x̄)(y-ȳ)  (x-x̄)^2  (y-ȳ)^2        ŷ    (y-ŷ)^2  \\\n",
       "0   34   5 -40.0  -5.0         200.0    1600.0      25.0   4.1520   0.719104   \n",
       "1  108  17  34.0   7.0         238.0    1156.0      49.0  14.9708   4.117653   \n",
       "2   64  11 -10.0   1.0         -10.0     100.0       1.0   8.5380   6.061444   \n",
       "3   88   8  14.0  -2.0         -28.0     196.0       4.0  12.0468  16.376590   \n",
       "4   99  14  25.0   4.0         100.0     625.0      16.0  13.6550   0.119025   \n",
       "5   51   5 -23.0  -5.0         115.0     529.0      25.0   6.6374   2.681079   \n",
       "\n",
       "    (ŷ-ȳ)^2  \n",
       "0  34.199104  \n",
       "1  24.708853  \n",
       "2   2.137444  \n",
       "3   4.189390  \n",
       "4  13.359025  \n",
       "5  11.307079  "
      ]
     },
     "execution_count": 75,
     "metadata": {},
     "output_type": "execute_result"
    }
   ],
   "source": [
    "# calculation needed for confidence interval band \n",
    "\n",
    "x = [34, 108, 64, 88, 99 ,51] \n",
    "y = [5, 17, 11, 8, 14, 5]\n",
    "df = pd.DataFrame({\"x\" : x, \"y\" : y})\n",
    "df['x-x̄'] = df['x'] - np.mean(df['x'])\n",
    "df['y-ȳ'] = df['y'] - np.mean(df['y'])\n",
    "df['(x-x̄)(y-ȳ)'] = df['x-x̄'] * df['y-ȳ']\n",
    "df['(x-x̄)^2'] = df['x-x̄']**2\n",
    "df['(y-ȳ)^2'] = df['y-ȳ']**2\n",
    "df['ŷ'] = b0 + b1 * df['x']\n",
    "df['(y-ŷ)^2'] = (df['y'] - (b0 + b1 * df['x'])) ** 2\n",
    "df['(ŷ-ȳ)^2'] = ((b0 + b1 * df['x']) - np.mean(df['y'])) ** 2\n",
    "df"
   ]
  },
  {
   "cell_type": "markdown",
   "id": "1ad5d796",
   "metadata": {},
   "source": [
    "#### Confidence Interval Band\n",
    "\n"
   ]
  },
  {
   "attachments": {
    "QQQQ.png": {
     "image/png": "[encoded data removed]"
    }
   },
   "cell_type": "markdown",
   "id": "feb045a2",
   "metadata": {},
   "source": [
    "![QQQQ.png](attachment:QQQQ.png)"
   ]
  },
  {
   "cell_type": "markdown",
   "id": "1a4dba9e",
   "metadata": {},
   "source": [
    "According to our example below, for a meal of 64 dollars, a tip of $8.54 is is just one of many possible tips."
   ]
  },
  {
   "cell_type": "code",
   "execution_count": 76,
   "id": "60ab3bba",
   "metadata": {},
   "outputs": [
    {
     "name": "stdout",
     "output_type": "stream",
     "text": [
      "Tips is $8.538\n"
     ]
    }
   ],
   "source": [
    "meal = 64\n",
    "tips =  -0.8188 + 0.1462 * meal\n",
    "print(f'Tips is ${tips}')"
   ]
  },
  {
   "cell_type": "markdown",
   "id": "e2fbc298",
   "metadata": {},
   "source": [
    "#### Calculate the interval band\n",
    " confidence interval band for 95% confidence level"
   ]
  },
  {
   "cell_type": "code",
   "execution_count": 77,
   "id": "289acd08",
   "metadata": {},
   "outputs": [
    {
     "name": "stdout",
     "output_type": "stream",
     "text": [
      "t-value is 2.7764\n"
     ]
    }
   ],
   "source": [
    "# alpha value (upper tail probability ) and n-value (degree of freedom)\n",
    "alpha = 0.05\n",
    "n = len(x) - 2\n",
    "\n",
    "# t-value is based on t-distribution with df = n-2\n",
    "from scipy import stats\n",
    "t_value = round(stats.t.ppf(1-alpha/2, n),4)\n",
    "\n",
    "print(f't-value is {t_value}')"
   ]
  },
  {
   "cell_type": "code",
   "execution_count": 78,
   "id": "cc56d69d",
   "metadata": {},
   "outputs": [
    {
     "name": "stdout",
     "output_type": "stream",
     "text": [
      "Root mean squared error is 2.742\n"
     ]
    }
   ],
   "source": [
    "# root mean squared error, s\n",
    "\n",
    "s = round((df['(y-ŷ)^2'].sum() / (len(x)-2)) ** 0.5,4)\n",
    "print(f'Root mean squared error is {s}')"
   ]
  },
  {
   "cell_type": "code",
   "execution_count": 79,
   "id": "8ab65de1",
   "metadata": {},
   "outputs": [],
   "source": [
    "# standard deviation of ŷ\n",
    "\n",
    "sŷ = s * ((1/n) + (df['x']-np.mean(df['x'])) / np.sum(df['x']-np.mean(df['x'])))"
   ]
  },
  {
   "cell_type": "code",
   "execution_count": 80,
   "id": "8d86df1e",
   "metadata": {
    "scrolled": true
   },
   "outputs": [
    {
     "data": {
      "text/html": [
       "<div>\n",
       "<style scoped>\n",
       "    .dataframe tbody tr th:only-of-type {\n",
       "        vertical-align: middle;\n",
       "    }\n",
       "\n",
       "    .dataframe tbody tr th {\n",
       "        vertical-align: top;\n",
       "    }\n",
       "\n",
       "    .dataframe thead th {\n",
       "        text-align: right;\n",
       "    }\n",
       "</style>\n",
       "<table border=\"1\" class=\"dataframe\">\n",
       "  <thead>\n",
       "    <tr style=\"text-align: right;\">\n",
       "      <th></th>\n",
       "      <th>x</th>\n",
       "      <th>y</th>\n",
       "      <th>ŷ</th>\n",
       "      <th>sŷ</th>\n",
       "      <th>CL_low</th>\n",
       "      <th>CL_high</th>\n",
       "    </tr>\n",
       "  </thead>\n",
       "  <tbody>\n",
       "    <tr>\n",
       "      <th>0</th>\n",
       "      <td>34</td>\n",
       "      <td>5</td>\n",
       "      <td>4.1520</td>\n",
       "      <td>2.028108</td>\n",
       "      <td>-1.478840</td>\n",
       "      <td>9.782840</td>\n",
       "    </tr>\n",
       "    <tr>\n",
       "      <th>1</th>\n",
       "      <td>108</td>\n",
       "      <td>17</td>\n",
       "      <td>14.9708</td>\n",
       "      <td>1.821960</td>\n",
       "      <td>9.912311</td>\n",
       "      <td>20.029289</td>\n",
       "    </tr>\n",
       "    <tr>\n",
       "      <th>2</th>\n",
       "      <td>64</td>\n",
       "      <td>11</td>\n",
       "      <td>8.5380</td>\n",
       "      <td>1.196600</td>\n",
       "      <td>5.215759</td>\n",
       "      <td>11.860241</td>\n",
       "    </tr>\n",
       "    <tr>\n",
       "      <th>3</th>\n",
       "      <td>88</td>\n",
       "      <td>8</td>\n",
       "      <td>12.0468</td>\n",
       "      <td>1.266278</td>\n",
       "      <td>8.531106</td>\n",
       "      <td>15.562494</td>\n",
       "    </tr>\n",
       "    <tr>\n",
       "      <th>4</th>\n",
       "      <td>99</td>\n",
       "      <td>14</td>\n",
       "      <td>13.6550</td>\n",
       "      <td>1.539588</td>\n",
       "      <td>9.380487</td>\n",
       "      <td>17.929513</td>\n",
       "    </tr>\n",
       "    <tr>\n",
       "      <th>5</th>\n",
       "      <td>51</td>\n",
       "      <td>5</td>\n",
       "      <td>6.6374</td>\n",
       "      <td>1.482810</td>\n",
       "      <td>2.520528</td>\n",
       "      <td>10.754272</td>\n",
       "    </tr>\n",
       "  </tbody>\n",
       "</table>\n",
       "</div>"
      ],
      "text/plain": [
       "     x   y        ŷ        sŷ    CL_low    CL_high\n",
       "0   34   5   4.1520  2.028108 -1.478840   9.782840\n",
       "1  108  17  14.9708  1.821960  9.912311  20.029289\n",
       "2   64  11   8.5380  1.196600  5.215759  11.860241\n",
       "3   88   8  12.0468  1.266278  8.531106  15.562494\n",
       "4   99  14  13.6550  1.539588  9.380487  17.929513\n",
       "5   51   5   6.6374  1.482810  2.520528  10.754272"
      ]
     },
     "execution_count": 80,
     "metadata": {},
     "output_type": "execute_result"
    }
   ],
   "source": [
    "# standard deviation of ŷ and confidence level band\n",
    "\n",
    "x = [34, 108, 64, 88, 99 ,51] \n",
    "y = [5, 17, 11, 8, 14, 5]\n",
    "df = pd.DataFrame({\"x\" : x, \"y\" : y})\n",
    "df['ŷ'] = b0 + b1 * df['x']\n",
    "df['sŷ'] = s * (1/len(x) + (df['x']-np.mean(df['x'])) ** 2 / np.sum((df['x']-np.mean(df['x'])) ** 2)) ** 0.5\n",
    "df['CL_low'] = df['ŷ'] - t_value * df['sŷ']\n",
    "df['CL_high'] = df['ŷ'] + t_value * df['sŷ']\n",
    "df"
   ]
  },
  {
   "cell_type": "markdown",
   "id": "572dd80a",
   "metadata": {},
   "source": [
    "#### Confidence Interval Band\n",
    "\n",
    "for value of independent variable, x_ from 0 to 200"
   ]
  },
  {
   "cell_type": "code",
   "execution_count": 126,
   "id": "09d85cf8",
   "metadata": {},
   "outputs": [
    {
     "data": {
      "text/html": [
       "<div>\n",
       "<style scoped>\n",
       "    .dataframe tbody tr th:only-of-type {\n",
       "        vertical-align: middle;\n",
       "    }\n",
       "\n",
       "    .dataframe tbody tr th {\n",
       "        vertical-align: top;\n",
       "    }\n",
       "\n",
       "    .dataframe thead th {\n",
       "        text-align: right;\n",
       "    }\n",
       "</style>\n",
       "<table border=\"1\" class=\"dataframe\">\n",
       "  <thead>\n",
       "    <tr style=\"text-align: right;\">\n",
       "      <th></th>\n",
       "      <th>Independence Variable</th>\n",
       "      <th>Predicted Output</th>\n",
       "      <th>Lower Confidence Level Band</th>\n",
       "      <th>Upper Confidence Level Band</th>\n",
       "    </tr>\n",
       "  </thead>\n",
       "  <tbody>\n",
       "    <tr>\n",
       "      <th>0</th>\n",
       "      <td>0</td>\n",
       "      <td>-0.8188</td>\n",
       "      <td>-10.044592</td>\n",
       "      <td>8.406992</td>\n",
       "    </tr>\n",
       "    <tr>\n",
       "      <th>1</th>\n",
       "      <td>1</td>\n",
       "      <td>-0.6726</td>\n",
       "      <td>-9.787953</td>\n",
       "      <td>8.442753</td>\n",
       "    </tr>\n",
       "    <tr>\n",
       "      <th>2</th>\n",
       "      <td>2</td>\n",
       "      <td>-0.5264</td>\n",
       "      <td>-9.531491</td>\n",
       "      <td>8.478691</td>\n",
       "    </tr>\n",
       "    <tr>\n",
       "      <th>3</th>\n",
       "      <td>3</td>\n",
       "      <td>-0.3802</td>\n",
       "      <td>-9.275210</td>\n",
       "      <td>8.514810</td>\n",
       "    </tr>\n",
       "    <tr>\n",
       "      <th>4</th>\n",
       "      <td>4</td>\n",
       "      <td>-0.2340</td>\n",
       "      <td>-9.019119</td>\n",
       "      <td>8.551119</td>\n",
       "    </tr>\n",
       "    <tr>\n",
       "      <th>...</th>\n",
       "      <td>...</td>\n",
       "      <td>...</td>\n",
       "      <td>...</td>\n",
       "      <td>...</td>\n",
       "    </tr>\n",
       "    <tr>\n",
       "      <th>195</th>\n",
       "      <td>195</td>\n",
       "      <td>27.6902</td>\n",
       "      <td>13.150487</td>\n",
       "      <td>42.229913</td>\n",
       "    </tr>\n",
       "    <tr>\n",
       "      <th>196</th>\n",
       "      <td>196</td>\n",
       "      <td>27.8364</td>\n",
       "      <td>13.181993</td>\n",
       "      <td>42.490807</td>\n",
       "    </tr>\n",
       "    <tr>\n",
       "      <th>197</th>\n",
       "      <td>197</td>\n",
       "      <td>27.9826</td>\n",
       "      <td>13.213457</td>\n",
       "      <td>42.751743</td>\n",
       "    </tr>\n",
       "    <tr>\n",
       "      <th>198</th>\n",
       "      <td>198</td>\n",
       "      <td>28.1288</td>\n",
       "      <td>13.244879</td>\n",
       "      <td>43.012721</td>\n",
       "    </tr>\n",
       "    <tr>\n",
       "      <th>199</th>\n",
       "      <td>199</td>\n",
       "      <td>28.2750</td>\n",
       "      <td>13.276261</td>\n",
       "      <td>43.273739</td>\n",
       "    </tr>\n",
       "  </tbody>\n",
       "</table>\n",
       "<p>200 rows × 4 columns</p>\n",
       "</div>"
      ],
      "text/plain": [
       "     Independence Variable  Predicted Output  Lower Confidence Level Band  \\\n",
       "0                        0           -0.8188                   -10.044592   \n",
       "1                        1           -0.6726                    -9.787953   \n",
       "2                        2           -0.5264                    -9.531491   \n",
       "3                        3           -0.3802                    -9.275210   \n",
       "4                        4           -0.2340                    -9.019119   \n",
       "..                     ...               ...                          ...   \n",
       "195                    195           27.6902                    13.150487   \n",
       "196                    196           27.8364                    13.181993   \n",
       "197                    197           27.9826                    13.213457   \n",
       "198                    198           28.1288                    13.244879   \n",
       "199                    199           28.2750                    13.276261   \n",
       "\n",
       "     Upper Confidence Level Band  \n",
       "0                       8.406992  \n",
       "1                       8.442753  \n",
       "2                       8.478691  \n",
       "3                       8.514810  \n",
       "4                       8.551119  \n",
       "..                           ...  \n",
       "195                    42.229913  \n",
       "196                    42.490807  \n",
       "197                    42.751743  \n",
       "198                    43.012721  \n",
       "199                    43.273739  \n",
       "\n",
       "[200 rows x 4 columns]"
      ]
     },
     "execution_count": 126,
     "metadata": {},
     "output_type": "execute_result"
    }
   ],
   "source": [
    "# predicted value\n",
    "x_ = np.arange(0,200,1)\n",
    "ŷ = []\n",
    "\n",
    "for i in x_:\n",
    "    ŷ.append(b0 + b1 * i)\n",
    "\n",
    "# standard deviation of ŷ\n",
    "sy = []\n",
    "for i in x_:\n",
    "    sy.append(s * (1/len(x) + ( i - np.mean(df['x'])) ** 2 / np.sum((df['x']-np.mean(df['x'])) ** 2)) ** 0.5)\n",
    "    \n",
    "# confidence interval band\n",
    "\n",
    "CL_upper = []\n",
    "CL_lower = []\n",
    "for i in range(0,200):\n",
    "    CL_upper.append(ŷ[i] + t_value * sy[i])\n",
    "    CL_lower.append(ŷ[i] - t_value * sy[i])\n",
    "\n",
    "pd.DataFrame({'Independence Variable' : x_ , \n",
    "              'Predicted Output': ŷ, \n",
    "              'Lower Confidence Level Band': CL_lower, \n",
    "              'Upper Confidence Level Band' : CL_upper})"
   ]
  },
  {
   "cell_type": "code",
   "execution_count": 131,
   "id": "58587060",
   "metadata": {},
   "outputs": [
    {
     "data": {
      "text/plain": [
       "<matplotlib.legend.Legend at 0x226aba3e6b0>"
      ]
     },
     "execution_count": 131,
     "metadata": {},
     "output_type": "execute_result"
    },
    {
     "data": {
      "image/png": "[encoded data removed]",
      "text/plain": [
       "<Figure size 1000x800 with 1 Axes>"
      ]
     },
     "metadata": {},
     "output_type": "display_data"
    }
   ],
   "source": [
    "# plot linear regression\n",
    "\n",
    "plt.figure(figsize = (10,8))\n",
    "plt.scatter(df['x'], df['y'], s = 8, label = \"real value\")\n",
    "plt.plot(df['x'] , df['ŷ'],color = \"black\", label = \"predicted value\")\n",
    "plt.fill_between(x_, CL_upper, CL_lower, color = \"red\", alpha = 0.3,  label = \"Confidence Interval Band\")\n",
    "plt.xlabel(\"Bills amount ($)\")\n",
    "plt.ylabel(\"Tips amount ($)\")\n",
    "plt.title(\"ConfidenceInterval Band between bills amount and tips amount \")\n",
    "ax = plt.gca()\n",
    "ax.set_xlim([30,110])\n",
    "ax.set_ylim([0,20])\n",
    "plt.legend()"
   ]
  },
  {
   "cell_type": "markdown",
   "id": "93d6dddf",
   "metadata": {},
   "source": [
    "#### Confidence Interval Band using seaborn"
   ]
  },
  {
   "cell_type": "code",
   "execution_count": 156,
   "id": "6663fc73",
   "metadata": {},
   "outputs": [
    {
     "data": {
      "text/plain": [
       "Text(0.5, 1.0, 'Linear Regression: Confidence Interval Band')"
      ]
     },
     "execution_count": 156,
     "metadata": {},
     "output_type": "execute_result"
    },
    {
     "data": {
      "image/png": "[encoded data removed]",
      "text/plain": [
       "<Figure size 1200x800 with 1 Axes>"
      ]
     },
     "metadata": {},
     "output_type": "display_data"
    }
   ],
   "source": [
    "x = [34, 108, 64, 88, 99 ,51] \n",
    "y = [5, 17, 11, 8, 14, 5]\n",
    "\n",
    "data = pd.DataFrame({'x': x,\n",
    "                     'y': y})\n",
    "\n",
    "plt.figure(figsize = (12,8))\n",
    "plt.scatter(x, y, color = 'black',s = 5, alpha = 0.5)\n",
    "sns.regplot(x = 'x', y = 'y', data = data,  ci = 95)\n",
    "plt.xlabel(\"Bills amount ($)\")\n",
    "plt.ylabel(\"Tips amount ($)\")\n",
    "plt.title('Linear Regression: Confidence Interval Band')"
   ]
  }
 ],
 "metadata": {
  "kernelspec": {
   "display_name": "Python 3 (ipykernel)",
   "language": "python",
   "name": "python3"
  },
  "language_info": {
   "codemirror_mode": {
    "name": "ipython",
    "version": 3
   },
   "file_extension": ".py",
   "mimetype": "text/x-python",
   "name": "python",
   "nbconvert_exporter": "python",
   "pygments_lexer": "ipython3",
   "version": "3.10.9"
  }
 },
 "nbformat": 4,
 "nbformat_minor": 5
}
