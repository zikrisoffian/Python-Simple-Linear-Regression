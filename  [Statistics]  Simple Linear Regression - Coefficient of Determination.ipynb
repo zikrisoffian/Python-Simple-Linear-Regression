{
 "cells": [
  {
   "cell_type": "markdown",
   "id": "8a1d8961",
   "metadata": {},
   "source": [
    "#  [Statistics]  Simple Linear Regression - (3) Coefficient of Determination\n",
    "\n",
    "##  Coefficient of Determination  (R-squared value)\n",
    "\n",
    "Coefficient of determination is used to identify \"the strength\" of a model. It explains how well the model is to predict the dependent variable based on independent variable. In other words, coefficient of determination reflect the variance in dependent variable that can be explained by the regression model.\n",
    "\n",
    "#### The value of coefficient of determination, r-squared ranges between 0 and 1. \n",
    "- The value of R-squared equal to 0 means that linear model can explain 0% of dependent variable using independent variable.\n",
    "- The value of R-squared equal to 0.5 means that linear model can explain 50% of dependent variable using independent variable.\n",
    "- The value of R-squared equal to 1 means that linear model can explain 100% of dependent variable using independent variable."
   ]
  },
  {
   "cell_type": "markdown",
   "id": "4fcb4907",
   "metadata": {},
   "source": [
    "#### The application of coefficient of determination\n",
    "- Scientific research\n",
    "- Economics\n",
    "- Risk analyst"
   ]
  },
  {
   "cell_type": "markdown",
   "id": "0a171ff9",
   "metadata": {},
   "source": [
    "## Calculation of  Coefficient of Determination\n",
    "\n",
    "The calculation of  Coefficient of Determination, r-squared is as below."
   ]
  },
  {
   "attachments": {
    "4.png": {
     "image/png": "[encoded data removed]"
    }
   },
   "cell_type": "markdown",
   "id": "0e551d16",
   "metadata": {},
   "source": [
    "![4.png](attachment:4.png)"
   ]
  },
  {
   "cell_type": "markdown",
   "id": "b09b6c7c",
   "metadata": {},
   "source": [
    "#### Import library"
   ]
  },
  {
   "cell_type": "code",
   "execution_count": 1,
   "id": "67eedb51",
   "metadata": {},
   "outputs": [],
   "source": [
    "# import library\n",
    "\n",
    "import numpy as np\n",
    "import pandas as pd\n",
    "import matplotlib.pyplot as plt\n",
    "\n",
    "# import library for linear regression\n",
    "\n",
    "import statsmodels.api as sm\n",
    "\n",
    "%matplotlib inline"
   ]
  },
  {
   "cell_type": "markdown",
   "id": "6e137cbe",
   "metadata": {},
   "source": [
    "#### Make dataset"
   ]
  },
  {
   "cell_type": "code",
   "execution_count": 2,
   "id": "c70294b2",
   "metadata": {
    "scrolled": true
   },
   "outputs": [
    {
     "data": {
      "text/html": [
       "<div>\n",
       "<style scoped>\n",
       "    .dataframe tbody tr th:only-of-type {\n",
       "        vertical-align: middle;\n",
       "    }\n",
       "\n",
       "    .dataframe tbody tr th {\n",
       "        vertical-align: top;\n",
       "    }\n",
       "\n",
       "    .dataframe thead th {\n",
       "        text-align: right;\n",
       "    }\n",
       "</style>\n",
       "<table border=\"1\" class=\"dataframe\">\n",
       "  <thead>\n",
       "    <tr style=\"text-align: right;\">\n",
       "      <th></th>\n",
       "      <th>bills</th>\n",
       "      <th>tips</th>\n",
       "    </tr>\n",
       "  </thead>\n",
       "  <tbody>\n",
       "    <tr>\n",
       "      <th>0</th>\n",
       "      <td>34</td>\n",
       "      <td>5</td>\n",
       "    </tr>\n",
       "    <tr>\n",
       "      <th>1</th>\n",
       "      <td>108</td>\n",
       "      <td>17</td>\n",
       "    </tr>\n",
       "    <tr>\n",
       "      <th>2</th>\n",
       "      <td>64</td>\n",
       "      <td>11</td>\n",
       "    </tr>\n",
       "    <tr>\n",
       "      <th>3</th>\n",
       "      <td>88</td>\n",
       "      <td>8</td>\n",
       "    </tr>\n",
       "    <tr>\n",
       "      <th>4</th>\n",
       "      <td>99</td>\n",
       "      <td>14</td>\n",
       "    </tr>\n",
       "    <tr>\n",
       "      <th>5</th>\n",
       "      <td>51</td>\n",
       "      <td>5</td>\n",
       "    </tr>\n",
       "  </tbody>\n",
       "</table>\n",
       "</div>"
      ],
      "text/plain": [
       "   bills  tips\n",
       "0     34     5\n",
       "1    108    17\n",
       "2     64    11\n",
       "3     88     8\n",
       "4     99    14\n",
       "5     51     5"
      ]
     },
     "execution_count": 2,
     "metadata": {},
     "output_type": "execute_result"
    }
   ],
   "source": [
    "# create dataset and assign x and y\n",
    "# we create an artificial data of bills(independent variable) and tips given(dependent variable)\n",
    "\n",
    "x = [34, 108, 64, 88, 99 ,51] \n",
    "y = [5, 17, 11, 8, 14, 5]\n",
    "df = pd.DataFrame({\"bills\" : x, \"tips\" : y})\n",
    "x = df.bills\n",
    "y = df.tips\n",
    "df"
   ]
  },
  {
   "cell_type": "code",
   "execution_count": 3,
   "id": "9aa6e647",
   "metadata": {},
   "outputs": [
    {
     "data": {
      "text/plain": [
       "Text(0, 0.5, 'Tips amount ($)')"
      ]
     },
     "execution_count": 3,
     "metadata": {},
     "output_type": "execute_result"
    },
    {
     "data": {
      "image/png": "[encoded data removed]",
      "text/plain": [
       "<Figure size 640x480 with 1 Axes>"
      ]
     },
     "metadata": {},
     "output_type": "display_data"
    }
   ],
   "source": [
    "# scatterplot for x(independent variable) and y(dependent variable)\n",
    "# see the trend using scatter plot\n",
    "# we can notice upward trend between independent variable and dependent variable\n",
    "\n",
    "plt.scatter(x, y, s  = 15 )\n",
    "plt.xlabel(\"Bills amount ($)\")\n",
    "plt.ylabel(\"Tips amount ($)\")"
   ]
  },
  {
   "cell_type": "markdown",
   "id": "58a73d96",
   "metadata": {},
   "source": [
    "## 1. Calculate R-squared value using python"
   ]
  },
  {
   "cell_type": "markdown",
   "id": "21c1c37c",
   "metadata": {},
   "source": [
    "#### calculate parameter of linear regression model"
   ]
  },
  {
   "cell_type": "code",
   "execution_count": 11,
   "id": "c2170fbb",
   "metadata": {},
   "outputs": [
    {
     "data": {
      "text/html": [
       "<div>\n",
       "<style scoped>\n",
       "    .dataframe tbody tr th:only-of-type {\n",
       "        vertical-align: middle;\n",
       "    }\n",
       "\n",
       "    .dataframe tbody tr th {\n",
       "        vertical-align: top;\n",
       "    }\n",
       "\n",
       "    .dataframe thead th {\n",
       "        text-align: right;\n",
       "    }\n",
       "</style>\n",
       "<table border=\"1\" class=\"dataframe\">\n",
       "  <thead>\n",
       "    <tr style=\"text-align: right;\">\n",
       "      <th></th>\n",
       "      <th>x</th>\n",
       "      <th>y</th>\n",
       "      <th>x-x̄</th>\n",
       "      <th>y-ȳ</th>\n",
       "      <th>(x-x̄)(y-ȳ)</th>\n",
       "      <th>(x-x̄)^2</th>\n",
       "      <th>(y-ȳ)^2</th>\n",
       "    </tr>\n",
       "  </thead>\n",
       "  <tbody>\n",
       "    <tr>\n",
       "      <th>0</th>\n",
       "      <td>34</td>\n",
       "      <td>5</td>\n",
       "      <td>-40.0</td>\n",
       "      <td>-5.0</td>\n",
       "      <td>200.0</td>\n",
       "      <td>1600.0</td>\n",
       "      <td>25.0</td>\n",
       "    </tr>\n",
       "    <tr>\n",
       "      <th>1</th>\n",
       "      <td>108</td>\n",
       "      <td>17</td>\n",
       "      <td>34.0</td>\n",
       "      <td>7.0</td>\n",
       "      <td>238.0</td>\n",
       "      <td>1156.0</td>\n",
       "      <td>49.0</td>\n",
       "    </tr>\n",
       "    <tr>\n",
       "      <th>2</th>\n",
       "      <td>64</td>\n",
       "      <td>11</td>\n",
       "      <td>-10.0</td>\n",
       "      <td>1.0</td>\n",
       "      <td>-10.0</td>\n",
       "      <td>100.0</td>\n",
       "      <td>1.0</td>\n",
       "    </tr>\n",
       "    <tr>\n",
       "      <th>3</th>\n",
       "      <td>88</td>\n",
       "      <td>8</td>\n",
       "      <td>14.0</td>\n",
       "      <td>-2.0</td>\n",
       "      <td>-28.0</td>\n",
       "      <td>196.0</td>\n",
       "      <td>4.0</td>\n",
       "    </tr>\n",
       "    <tr>\n",
       "      <th>4</th>\n",
       "      <td>99</td>\n",
       "      <td>14</td>\n",
       "      <td>25.0</td>\n",
       "      <td>4.0</td>\n",
       "      <td>100.0</td>\n",
       "      <td>625.0</td>\n",
       "      <td>16.0</td>\n",
       "    </tr>\n",
       "    <tr>\n",
       "      <th>5</th>\n",
       "      <td>51</td>\n",
       "      <td>5</td>\n",
       "      <td>-23.0</td>\n",
       "      <td>-5.0</td>\n",
       "      <td>115.0</td>\n",
       "      <td>529.0</td>\n",
       "      <td>25.0</td>\n",
       "    </tr>\n",
       "  </tbody>\n",
       "</table>\n",
       "</div>"
      ],
      "text/plain": [
       "     x   y  x-x̄  y-ȳ  (x-x̄)(y-ȳ)  (x-x̄)^2  (y-ȳ)^2\n",
       "0   34   5 -40.0  -5.0         200.0    1600.0      25.0\n",
       "1  108  17  34.0   7.0         238.0    1156.0      49.0\n",
       "2   64  11 -10.0   1.0         -10.0     100.0       1.0\n",
       "3   88   8  14.0  -2.0         -28.0     196.0       4.0\n",
       "4   99  14  25.0   4.0         100.0     625.0      16.0\n",
       "5   51   5 -23.0  -5.0         115.0     529.0      25.0"
      ]
     },
     "execution_count": 11,
     "metadata": {},
     "output_type": "execute_result"
    }
   ],
   "source": [
    "x = [34, 108, 64, 88, 99 ,51] \n",
    "y = [5, 17, 11, 8, 14, 5]\n",
    "df = pd.DataFrame({\"x\" : x, \"y\" : y})\n",
    "df['x-x̄'] = df['x'] - np.mean(df['x'])\n",
    "df['y-ȳ'] = df['y'] - np.mean(df['y'])\n",
    "df['(x-x̄)(y-ȳ)'] = df['x-x̄'] * df['y-ȳ']\n",
    "df['(x-x̄)^2'] = df['x-x̄']**2\n",
    "df['(y-ȳ)^2'] = df['y-ȳ']**2\n",
    "df"
   ]
  },
  {
   "cell_type": "code",
   "execution_count": 16,
   "id": "7d416cfe",
   "metadata": {},
   "outputs": [
    {
     "data": {
      "text/plain": [
       "0.1462"
      ]
     },
     "execution_count": 16,
     "metadata": {},
     "output_type": "execute_result"
    }
   ],
   "source": [
    "# calculate the slope of linear line\n",
    "\n",
    "b1 = np.round((df['(x-x̄)(y-ȳ)'].sum() / df['(x-x̄)^2'].sum()),4)\n",
    "b1"
   ]
  },
  {
   "cell_type": "code",
   "execution_count": 22,
   "id": "db5b611c",
   "metadata": {},
   "outputs": [
    {
     "data": {
      "text/plain": [
       "-0.8188"
      ]
     },
     "execution_count": 22,
     "metadata": {},
     "output_type": "execute_result"
    }
   ],
   "source": [
    "# calculate the y-intercept of linear line\n",
    "\n",
    "b0 = np.round(np.mean(df['y'] - b1 * np.mean(df['x'])),4)\n",
    "b0"
   ]
  },
  {
   "cell_type": "code",
   "execution_count": 26,
   "id": "b21683ef",
   "metadata": {},
   "outputs": [
    {
     "name": "stdout",
     "output_type": "stream",
     "text": [
      "The linear regression is -0.8188 + 0.1462x\n"
     ]
    }
   ],
   "source": [
    "print(f'The linear regression is {b0} + {b1}x')"
   ]
  },
  {
   "cell_type": "markdown",
   "id": "876b7ba6",
   "metadata": {},
   "source": [
    "#### calculate r-squared"
   ]
  },
  {
   "cell_type": "code",
   "execution_count": 25,
   "id": "e5b2631a",
   "metadata": {},
   "outputs": [
    {
     "data": {
      "text/html": [
       "<div>\n",
       "<style scoped>\n",
       "    .dataframe tbody tr th:only-of-type {\n",
       "        vertical-align: middle;\n",
       "    }\n",
       "\n",
       "    .dataframe tbody tr th {\n",
       "        vertical-align: top;\n",
       "    }\n",
       "\n",
       "    .dataframe thead th {\n",
       "        text-align: right;\n",
       "    }\n",
       "</style>\n",
       "<table border=\"1\" class=\"dataframe\">\n",
       "  <thead>\n",
       "    <tr style=\"text-align: right;\">\n",
       "      <th></th>\n",
       "      <th>x</th>\n",
       "      <th>y</th>\n",
       "      <th>x-x̄</th>\n",
       "      <th>y-ȳ</th>\n",
       "      <th>(x-x̄)(y-ȳ)</th>\n",
       "      <th>(x-x̄)^2</th>\n",
       "      <th>(y-ȳ)^2</th>\n",
       "      <th>ŷ</th>\n",
       "      <th>(y-ŷ)^2</th>\n",
       "    </tr>\n",
       "  </thead>\n",
       "  <tbody>\n",
       "    <tr>\n",
       "      <th>0</th>\n",
       "      <td>34</td>\n",
       "      <td>5</td>\n",
       "      <td>-40.0</td>\n",
       "      <td>-5.0</td>\n",
       "      <td>200.0</td>\n",
       "      <td>1600.0</td>\n",
       "      <td>25.0</td>\n",
       "      <td>4.1520</td>\n",
       "      <td>0.719104</td>\n",
       "    </tr>\n",
       "    <tr>\n",
       "      <th>1</th>\n",
       "      <td>108</td>\n",
       "      <td>17</td>\n",
       "      <td>34.0</td>\n",
       "      <td>7.0</td>\n",
       "      <td>238.0</td>\n",
       "      <td>1156.0</td>\n",
       "      <td>49.0</td>\n",
       "      <td>14.9708</td>\n",
       "      <td>4.117653</td>\n",
       "    </tr>\n",
       "    <tr>\n",
       "      <th>2</th>\n",
       "      <td>64</td>\n",
       "      <td>11</td>\n",
       "      <td>-10.0</td>\n",
       "      <td>1.0</td>\n",
       "      <td>-10.0</td>\n",
       "      <td>100.0</td>\n",
       "      <td>1.0</td>\n",
       "      <td>8.5380</td>\n",
       "      <td>6.061444</td>\n",
       "    </tr>\n",
       "    <tr>\n",
       "      <th>3</th>\n",
       "      <td>88</td>\n",
       "      <td>8</td>\n",
       "      <td>14.0</td>\n",
       "      <td>-2.0</td>\n",
       "      <td>-28.0</td>\n",
       "      <td>196.0</td>\n",
       "      <td>4.0</td>\n",
       "      <td>12.0468</td>\n",
       "      <td>16.376590</td>\n",
       "    </tr>\n",
       "    <tr>\n",
       "      <th>4</th>\n",
       "      <td>99</td>\n",
       "      <td>14</td>\n",
       "      <td>25.0</td>\n",
       "      <td>4.0</td>\n",
       "      <td>100.0</td>\n",
       "      <td>625.0</td>\n",
       "      <td>16.0</td>\n",
       "      <td>13.6550</td>\n",
       "      <td>0.119025</td>\n",
       "    </tr>\n",
       "    <tr>\n",
       "      <th>5</th>\n",
       "      <td>51</td>\n",
       "      <td>5</td>\n",
       "      <td>-23.0</td>\n",
       "      <td>-5.0</td>\n",
       "      <td>115.0</td>\n",
       "      <td>529.0</td>\n",
       "      <td>25.0</td>\n",
       "      <td>6.6374</td>\n",
       "      <td>2.681079</td>\n",
       "    </tr>\n",
       "  </tbody>\n",
       "</table>\n",
       "</div>"
      ],
      "text/plain": [
       "     x   y  x-x̄  y-ȳ  (x-x̄)(y-ȳ)  (x-x̄)^2  (y-ȳ)^2        ŷ    (y-ŷ)^2\n",
       "0   34   5 -40.0  -5.0         200.0    1600.0      25.0   4.1520   0.719104\n",
       "1  108  17  34.0   7.0         238.0    1156.0      49.0  14.9708   4.117653\n",
       "2   64  11 -10.0   1.0         -10.0     100.0       1.0   8.5380   6.061444\n",
       "3   88   8  14.0  -2.0         -28.0     196.0       4.0  12.0468  16.376590\n",
       "4   99  14  25.0   4.0         100.0     625.0      16.0  13.6550   0.119025\n",
       "5   51   5 -23.0  -5.0         115.0     529.0      25.0   6.6374   2.681079"
      ]
     },
     "execution_count": 25,
     "metadata": {},
     "output_type": "execute_result"
    }
   ],
   "source": [
    "# calculate r-squared\n",
    "\n",
    "x = [34, 108, 64, 88, 99 ,51] \n",
    "y = [5, 17, 11, 8, 14, 5]\n",
    "df = pd.DataFrame({\"x\" : x, \"y\" : y})\n",
    "df['x-x̄'] = df['x'] - np.mean(df['x'])\n",
    "df['y-ȳ'] = df['y'] - np.mean(df['y'])\n",
    "df['(x-x̄)(y-ȳ)'] = df['x-x̄'] * df['y-ȳ']\n",
    "df['(x-x̄)^2'] = df['x-x̄']**2\n",
    "df['(y-ȳ)^2'] = df['y-ȳ']**2\n",
    "df['ŷ'] = b0 + b1 * df['x']\n",
    "df['(y-ŷ)^2'] = (df['y'] - (b0 + b1 * df['x'])) ** 2\n",
    "df"
   ]
  },
  {
   "cell_type": "code",
   "execution_count": 28,
   "id": "26251c91",
   "metadata": {},
   "outputs": [
    {
     "data": {
      "text/plain": [
       "0.7493758779999999"
      ]
     },
     "execution_count": 28,
     "metadata": {},
     "output_type": "execute_result"
    }
   ],
   "source": [
    "r_squared_value =  1 - df['(y-ŷ)^2'].sum()/ df['(y-ȳ)^2'].sum()\n",
    "r_squared_value"
   ]
  },
  {
   "cell_type": "code",
   "execution_count": 34,
   "id": "ee3b8661",
   "metadata": {},
   "outputs": [
    {
     "name": "stdout",
     "output_type": "stream",
     "text": [
      "\n",
      "<R squared interpretation>\n",
      "\n",
      "74.94% of total sum of squares can be explained by using the estimated regression equation.\n",
      "The remainder 25.06% is the error that cannot be explained by the model.\n",
      "\n"
     ]
    }
   ],
   "source": [
    "print(f'''\n",
    "<R squared interpretation>\n",
    "\n",
    "{round(r_squared_value,4)*100}% of total sum of squares can be explained by using the estimated regression equation.\n",
    "The remainder {round(1- r_squared_value,4)*100}% is the error that cannot be explained by the model.\n",
    "''')"
   ]
  },
  {
   "cell_type": "markdown",
   "id": "cf313e88",
   "metadata": {},
   "source": [
    "## 2. Calculate R-squared value using statsmodels"
   ]
  },
  {
   "cell_type": "code",
   "execution_count": 36,
   "id": "31494e40",
   "metadata": {},
   "outputs": [],
   "source": [
    "# add constant and use OLS fit model\n",
    "# we have to add constant to X to fit into statsmodels.OLS\n",
    "\n",
    "X = sm.add_constant(x)\n",
    "model = sm.OLS(y,X).fit()"
   ]
  },
  {
   "cell_type": "code",
   "execution_count": 40,
   "id": "744cd40f",
   "metadata": {},
   "outputs": [
    {
     "data": {
      "text/plain": [
       "0.7493758915834522"
      ]
     },
     "execution_count": 40,
     "metadata": {},
     "output_type": "execute_result"
    }
   ],
   "source": [
    "r_squared_value = model.rsquared\n",
    "r_squared_value"
   ]
  },
  {
   "cell_type": "code",
   "execution_count": 41,
   "id": "11067026",
   "metadata": {},
   "outputs": [
    {
     "name": "stdout",
     "output_type": "stream",
     "text": [
      "\n",
      "<R squared interpretation>\n",
      "\n",
      "74.94% of total sum of squares can be explained by using the estimated regression equation.\n",
      "The remainder 25.06% is the error that cannot be explained by the model.\n",
      "\n"
     ]
    }
   ],
   "source": [
    "print(f'''\n",
    "<R squared interpretation>\n",
    "\n",
    "{round(r_squared_value,4)*100}% of total sum of squares can be explained by using the estimated regression equation.\n",
    "The remainder {round(1- r_squared_value,4)*100}% is the error that cannot be explained by the model.\n",
    "''')"
   ]
  }
 ],
 "metadata": {
  "kernelspec": {
   "display_name": "Python 3 (ipykernel)",
   "language": "python",
   "name": "python3"
  },
  "language_info": {
   "codemirror_mode": {
    "name": "ipython",
    "version": 3
   },
   "file_extension": ".py",
   "mimetype": "text/x-python",
   "name": "python",
   "nbconvert_exporter": "python",
   "pygments_lexer": "ipython3",
   "version": "3.10.9"
  }
 },
 "nbformat": 4,
 "nbformat_minor": 5
}
